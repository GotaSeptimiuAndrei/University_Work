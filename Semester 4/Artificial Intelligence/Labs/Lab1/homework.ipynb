{
 "cells": [
  {
   "cell_type": "code",
   "execution_count": 1,
   "id": "c7097f71-199d-4a56-b82f-b483a44bf613",
   "metadata": {},
   "outputs": [
    {
     "name": "stdout",
     "output_type": "stream",
     "text": [
      "5\n"
     ]
    }
   ],
   "source": [
    "import numpy as np\n",
    "\n",
    "def spinner(probabilityDistribution):\n",
    "    randomNr = np.random.uniform(0, 1)\n",
    "    idx = 0\n",
    "    while randomNr > 0:\n",
    "        if randomNr > probabilityDistribution[idx]:\n",
    "            randomNr -= probabilityDistribution[idx]\n",
    "            idx = idx + 1\n",
    "        else:\n",
    "            return idx + 1\n",
    "\n",
    "pd = [0.3, 0.2, 0.1, 0.15, 0.25]\n",
    "result = spinner(pd)\n",
    "print(result)"
   ]
  },
  {
   "cell_type": "code",
   "execution_count": 16,
   "id": "20500782-5fe2-4c80-b0a3-69d274577cf1",
   "metadata": {},
   "outputs": [
    {
     "name": "stdout",
     "output_type": "stream",
     "text": [
      "Monte Carlo Probability: 0.2745\n"
     ]
    }
   ],
   "source": [
    "import numpy as np\n",
    "\n",
    "R = 30  # Radius of the pipe\n",
    "l = 100  # Edge length of the square yard\n",
    "r = 1   # Radius of the balls\n",
    "num_samples = 10000  # Number of random samples\n",
    "\n",
    "def is_inside_pipe(x, y):\n",
    "    distance_to_center = np.sqrt(x**2 + y**2)\n",
    "    return distance_to_center <= R\n",
    "\n",
    "inside_count = 0\n",
    "for _ in range(num_samples):\n",
    "    # Generate random coordinates for the ball\n",
    "    x = np.random.uniform(-l/2, l/2)\n",
    "    y = np.random.uniform(-l/2, l/2)\n",
    "    \n",
    "    if is_inside_pipe(x, y):\n",
    "        inside_count += 1\n",
    "\n",
    "# Calculate the probability\n",
    "probability_mc = inside_count / num_samples\n",
    "print(\"Monte Carlo Probability:\", probability_mc)\n"
   ]
  },
  {
   "cell_type": "code",
   "execution_count": 17,
   "id": "7c085b64-e643-42d1-bef8-2f0c122cdbe6",
   "metadata": {},
   "outputs": [
    {
     "name": "stdout",
     "output_type": "stream",
     "text": [
      "Theoretical Probability: 0.2827433388230814\n"
     ]
    }
   ],
   "source": [
    "# Calculate the theoretical probability\n",
    "probability_theoretical = np.pi * R**2 / l**2\n",
    "print(\"Theoretical Probability:\", probability_theoretical)"
   ]
  },
  {
   "cell_type": "code",
   "execution_count": null,
   "id": "f9a55f27-453e-49d8-baf5-da7d7b8c3da8",
   "metadata": {},
   "outputs": [],
   "source": []
  }
 ],
 "metadata": {
  "kernelspec": {
   "display_name": "Python 3 (ipykernel)",
   "language": "python",
   "name": "python3"
  },
  "language_info": {
   "codemirror_mode": {
    "name": "ipython",
    "version": 3
   },
   "file_extension": ".py",
   "mimetype": "text/x-python",
   "name": "python",
   "nbconvert_exporter": "python",
   "pygments_lexer": "ipython3",
   "version": "3.11.7"
  }
 },
 "nbformat": 4,
 "nbformat_minor": 5
}
