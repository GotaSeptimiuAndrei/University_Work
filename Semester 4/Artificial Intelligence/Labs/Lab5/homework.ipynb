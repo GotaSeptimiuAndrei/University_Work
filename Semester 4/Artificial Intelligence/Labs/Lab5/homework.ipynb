{
 "cells": [
  {
   "cell_type": "markdown",
   "id": "b8210b19",
   "metadata": {},
   "source": [
    "## A.I. Assignment 5\n",
    "\n",
    "## Learning Goals\n",
    "\n",
    "By the end of this lab, you should be able to:\n",
    "* Get more familiar with tensors in pytorch \n",
    "* Create a simple multilayer perceptron model with pytorch\n",
    "* Visualise the parameters\n",
    "\n",
    "\n",
    "### Task\n",
    "\n",
    "Build a fully connected feed forward network that adds two bits. Determine the a propper achitecture for this network (what database you use for this problem? how many layers? how many neurons on each layer? what is the activation function? what is the loss function? etc)\n",
    "\n",
    "Create at least 3 such networks and compare their performance (how accurate they are?, how farst they are trained to get at 1 accuracy?)\n",
    "\n",
    "Display for the best one the weights for each layer.\n"
   ]
  },
  {
   "cell_type": "code",
   "execution_count": 2,
   "id": "e3614e5f",
   "metadata": {},
   "outputs": [],
   "source": [
    "import torch\n",
    "import torch.nn as nn\n",
    "from collections import OrderedDict\n"
   ]
  },
  {
   "cell_type": "code",
   "execution_count": 3,
   "id": "5ee7e7d7",
   "metadata": {},
   "outputs": [],
   "source": [
    "# your code here\n",
    "\n",
    "#model1 = nn.Sequential(OrderedDict([\n",
    "#    ('hidden', nn.\n",
    "#]))\n",
    "\n",
    "# input layer has 2 neurons, hidden layer has 2 neurons and output layer has 1 neuro\n",
    "model1 = nn.Sequential(OrderedDict([\n",
    "    ('hidden', nn.Linear(2,2)),\n",
    "    ('sigmoid', nn.Sigmoid()),\n",
    "    ('output', nn.Linear(2,1)),\n",
    "    ('sigmoid', nn.Sigmoid())\n",
    "]))\n",
    "\n",
    "# input layer has 2 neurons, hidden layer has 4 neurons and output layer has 1 neuron\n",
    "model2 = nn.Sequential(OrderedDict([\n",
    "    ('hidden', nn.Linear(2,4)),\n",
    "    ('sigmoid', nn.Sigmoid()),\n",
    "    ('output', nn.Linear(4,1)),\n",
    "    ('sigmoid', nn.Sigmoid())\n",
    "]))\n",
    "\n",
    "# input layer has 2 neurons, hidden layer has 8 neurons and output layer has 1 neuron\n",
    "model3 = nn.Sequential(OrderedDict([\n",
    "    ('hidden', nn.Linear(2,8)),\n",
    "    ('sigmoid', nn.Sigmoid()),\n",
    "    ('output', nn.Linear(8,1)),\n",
    "    ('sigmoid', nn.Sigmoid())\n",
    "]))\n",
    "\n",
    "# the database contains 0 and 1 \n",
    "# 3 layers: the input and output layers and one hidden layer\n",
    "# the activation function is the sigmoid function\n",
    "# the loss function is sigmoid cross entropy with logits function"
   ]
  },
  {
   "cell_type": "code",
   "execution_count": 4,
   "id": "665ae958",
   "metadata": {},
   "outputs": [
    {
     "name": "stdout",
     "output_type": "stream",
     "text": [
      "Sequential(\n",
      "  (hidden): Linear(in_features=2, out_features=2, bias=True)\n",
      "  (sigmoid): Sigmoid()\n",
      "  (output): Linear(in_features=2, out_features=1, bias=True)\n",
      ")\n",
      "Sequential(\n",
      "  (hidden): Linear(in_features=2, out_features=4, bias=True)\n",
      "  (sigmoid): Sigmoid()\n",
      "  (output): Linear(in_features=4, out_features=1, bias=True)\n",
      ")\n",
      "Sequential(\n",
      "  (hidden): Linear(in_features=2, out_features=8, bias=True)\n",
      "  (sigmoid): Sigmoid()\n",
      "  (output): Linear(in_features=8, out_features=1, bias=True)\n",
      ")\n"
     ]
    }
   ],
   "source": [
    "print(model1)\n",
    "print(model2)\n",
    "print(model3)"
   ]
  },
  {
   "cell_type": "code",
   "execution_count": 5,
   "id": "e26f0d3e",
   "metadata": {},
   "outputs": [
    {
     "name": "stdout",
     "output_type": "stream",
     "text": [
      "tensor([[0., 0.],\n",
      "        [0., 1.],\n",
      "        [1., 0.],\n",
      "        [1., 1.]])\n"
     ]
    }
   ],
   "source": [
    "# your code here\n",
    "#data_in = torch.tensor( ...\n",
    "data_in = torch.tensor([[0, 0], [0, 1], [1, 0], [1, 1]], dtype=torch.float32)\n",
    "print(data_in)"
   ]
  },
  {
   "cell_type": "code",
   "execution_count": 6,
   "id": "4fb16bbc",
   "metadata": {},
   "outputs": [
    {
     "name": "stdout",
     "output_type": "stream",
     "text": [
      "tensor([[0.],\n",
      "        [1.],\n",
      "        [1.],\n",
      "        [0.]])\n"
     ]
    }
   ],
   "source": [
    "# your code here\n",
    "# data_target = torch.tensor( ...\n",
    "data_target = torch.tensor([[0], [1], [1], [0]], dtype=torch.float32)\n",
    "print(data_target)"
   ]
  },
  {
   "cell_type": "code",
   "execution_count": 9,
   "id": "69d920ed",
   "metadata": {},
   "outputs": [],
   "source": [
    "# your code here\n",
    "# Define the loss function and optimizer\n",
    "criterion = nn.BCEWithLogitsLoss()\n",
    "# Stochastic gradient descent optimizer\n",
    "optimizer_model1 = torch.optim.SGD(model1.parameters(), lr=0.1)\n",
    "optimizer_model2 = torch.optim.SGD(model2.parameters(), lr=0.1)\n",
    "optimizer_model3 = torch.optim.SGD(model3.parameters(), lr=0.1)"
   ]
  },
  {
   "cell_type": "code",
   "execution_count": 10,
   "id": "cde91f6f",
   "metadata": {},
   "outputs": [
    {
     "name": "stdout",
     "output_type": "stream",
     "text": [
      "Model_1\n",
      "Epoch [100/1000], Loss: 0.6921\n",
      "Epoch [200/1000], Loss: 0.6920\n",
      "Epoch [300/1000], Loss: 0.6918\n",
      "Epoch [400/1000], Loss: 0.6916\n",
      "Epoch [500/1000], Loss: 0.6914\n",
      "Epoch [600/1000], Loss: 0.6911\n",
      "Epoch [700/1000], Loss: 0.6908\n",
      "Epoch [800/1000], Loss: 0.6904\n",
      "Epoch [900/1000], Loss: 0.6899\n",
      "Epoch [1000/1000], Loss: 0.6893\n",
      "Model_2\n",
      "Epoch [100/1000], Loss: 0.6924\n",
      "Epoch [200/1000], Loss: 0.6923\n",
      "Epoch [300/1000], Loss: 0.6922\n",
      "Epoch [400/1000], Loss: 0.6921\n",
      "Epoch [500/1000], Loss: 0.6920\n",
      "Epoch [600/1000], Loss: 0.6919\n",
      "Epoch [700/1000], Loss: 0.6918\n",
      "Epoch [800/1000], Loss: 0.6916\n",
      "Epoch [900/1000], Loss: 0.6914\n",
      "Epoch [1000/1000], Loss: 0.6912\n",
      "Model_3\n",
      "Epoch [100/1000], Loss: 0.6926\n",
      "Epoch [200/1000], Loss: 0.6925\n",
      "Epoch [300/1000], Loss: 0.6924\n",
      "Epoch [400/1000], Loss: 0.6924\n",
      "Epoch [500/1000], Loss: 0.6923\n",
      "Epoch [600/1000], Loss: 0.6922\n",
      "Epoch [700/1000], Loss: 0.6920\n",
      "Epoch [800/1000], Loss: 0.6919\n",
      "Epoch [900/1000], Loss: 0.6917\n",
      "Epoch [1000/1000], Loss: 0.6915\n"
     ]
    }
   ],
   "source": [
    "# your code here\n",
    "# Train the model\n",
    "num_epochs = 1000\n",
    "\n",
    "print('Model_1')\n",
    "for epoch in range(num_epochs):\n",
    "    #forward pass\n",
    "    outputs = model1(data_in)\n",
    "    loss = criterion(outputs, data_target)\n",
    "    \n",
    "    #Backward pass and optimization\n",
    "    optimizer_model1.zero_grad()\n",
    "    loss.backward()\n",
    "    optimizer_model1.step()\n",
    "    \n",
    "    # Print the loss every 100 epochs\n",
    "    if (epoch + 1) % 100 == 0:\n",
    "        print(f'Epoch [{epoch+1}/{num_epochs}], Loss: {loss.item():.4f}')\n",
    "    \n",
    "print('Model_2')\n",
    "for epoch in range(num_epochs):\n",
    "    #forward pass\n",
    "    outputs = model2(data_in)\n",
    "    loss = criterion(outputs, data_target)\n",
    "    \n",
    "    #Backward pass and optimization\n",
    "    optimizer_model2.zero_grad()\n",
    "    loss.backward()\n",
    "    optimizer_model2.step()\n",
    "    \n",
    "    # Print the loss every 100 epochs\n",
    "    if (epoch + 1) % 100 == 0:\n",
    "        print(f'Epoch [{epoch+1}/{num_epochs}], Loss: {loss.item():.4f}')\n",
    "        \n",
    "print('Model_3')\n",
    "for epoch in range(num_epochs):\n",
    "    #forward pass\n",
    "    outputs = model3(data_in)\n",
    "    loss = criterion(outputs, data_target)\n",
    "    \n",
    "    #Backward pass and optimization\n",
    "    optimizer_model3.zero_grad()\n",
    "    loss.backward()\n",
    "    optimizer_model3.step()\n",
    "    \n",
    "    # Print the loss every 100 epochs\n",
    "    if (epoch + 1) % 100 == 0:\n",
    "        print(f'Epoch [{epoch+1}/{num_epochs}], Loss: {loss.item():.4f}')"
   ]
  },
  {
   "cell_type": "code",
   "execution_count": 12,
   "id": "dff3ec1a",
   "metadata": {},
   "outputs": [
    {
     "name": "stdout",
     "output_type": "stream",
     "text": [
      "Model 1's predictions:\n",
      "tensor([[0.],\n",
      "        [0.],\n",
      "        [0.],\n",
      "        [0.]])\n"
     ]
    },
    {
     "data": {
      "image/png": "[encoded data removed]",
      "text/plain": [
       "<Figure size 640x480 with 1 Axes>"
      ]
     },
     "metadata": {},
     "output_type": "display_data"
    },
    {
     "name": "stdout",
     "output_type": "stream",
     "text": [
      "Model 2's predictions:\n",
      "tensor([[0.],\n",
      "        [0.],\n",
      "        [0.],\n",
      "        [0.]])\n"
     ]
    },
    {
     "data": {
      "image/png": "[encoded data removed]",
      "text/plain": [
       "<Figure size 640x480 with 1 Axes>"
      ]
     },
     "metadata": {},
     "output_type": "display_data"
    },
    {
     "name": "stdout",
     "output_type": "stream",
     "text": [
      "Model 3's predictions:\n",
      "tensor([[0.],\n",
      "        [0.],\n",
      "        [0.],\n",
      "        [0.]])\n"
     ]
    },
    {
     "data": {
      "image/png": "[encoded data removed]",
      "text/plain": [
       "<Figure size 640x480 with 1 Axes>"
      ]
     },
     "metadata": {},
     "output_type": "display_data"
    }
   ],
   "source": [
    "# your code here\n",
    "# visualize the resuts\n",
    "\n",
    "import matplotlib.pyplot as plt\n",
    "\n",
    "# for MODEL 1:\n",
    "\n",
    "output = model1(data_in)\n",
    "\n",
    "# Convert the output probabilities to binary predictions\n",
    "predictions = (output >= 0.5).float()\n",
    "\n",
    "# Print the model's predictions\n",
    "print(\"Model 1's predictions:\")\n",
    "print(predictions)\n",
    "\n",
    "# Visualize the model's predictions against the target output\n",
    "fig, ax = plt.subplots()\n",
    "\n",
    "ax.scatter(data_in[:, 0], data_in[:, 1], c=predictions[:, 0], cmap='coolwarm')\n",
    "ax.set(xlabel='Bit 1', ylabel='Bit 2', title='Model Predictions vs Target Output')\n",
    "ax.grid()\n",
    "\n",
    "plt.show()\n",
    "\n",
    "# for MODEL 2:\n",
    "\n",
    "output = model2(data_in)\n",
    "\n",
    "# Convert the output probabilities to binary predictions\n",
    "predictions = (output >= 0.5).float()\n",
    "\n",
    "# Print the model's predictions\n",
    "print(\"Model 2's predictions:\")\n",
    "print(predictions)\n",
    "\n",
    "# Visualize the model's predictions against the target output\n",
    "fig, ax = plt.subplots()\n",
    "\n",
    "ax.scatter(data_in[:, 0], data_in[:, 1], c=predictions[:, 0], cmap='coolwarm')\n",
    "ax.set(xlabel='Bit 1', ylabel='Bit 2', title='Model Predictions vs Target Output')\n",
    "ax.grid()\n",
    "\n",
    "plt.show()\n",
    "\n",
    "# for MODEL 3:\n",
    "\n",
    "output = model3(data_in)\n",
    "\n",
    "# Convert the output probabilities to binary predictions\n",
    "predictions = (output >= 0.5).float()\n",
    "\n",
    "# Print the model's predictions\n",
    "print(\"Model 3's predictions:\")\n",
    "print(predictions)\n",
    "\n",
    "# Visualize the model's predictions against the target output\n",
    "fig, ax = plt.subplots()\n",
    "\n",
    "ax.scatter(data_in[:, 0], data_in[:, 1], c=predictions[:, 0], cmap='coolwarm')\n",
    "ax.set(xlabel='Bit 1', ylabel='Bit 2', title='Model Predictions vs Target Output')\n",
    "ax.grid()\n",
    "\n",
    "plt.show()"
   ]
  },
  {
   "cell_type": "code",
   "execution_count": 13,
   "id": "c1a7518b",
   "metadata": {},
   "outputs": [
    {
     "name": "stdout",
     "output_type": "stream",
     "text": [
      "Accuracy: 50.00%\n",
      "Accuracy: 50.00%\n",
      "Accuracy: 50.00%\n",
      "Model 1 is the best!\n",
      "\n",
      "\n",
      "hidden.weight tensor([[-1.0327,  0.7102],\n",
      "        [-0.6681,  0.0882]])\n",
      "hidden.bias tensor([-0.7258, -0.6359])\n",
      "output.weight tensor([[0.6650, 0.0588]])\n",
      "output.bias tensor([-0.2190])\n"
     ]
    }
   ],
   "source": [
    "# your code here\n",
    "# print model wights\n",
    "accuracies=[]\n",
    "models = [model1,model2,model3]\n",
    "\n",
    "for model in models:\n",
    "    model.eval()\n",
    "    with torch.no_grad():\n",
    "        outputs = model(data_in)\n",
    "        predicted = (outputs >= 0.5).float()\n",
    "        accuracy = (predicted == data_target).float().mean()\n",
    "        accuracies.append(accuracy)\n",
    "    print(\"Accuracy: {:.2f}%\".format(accuracy.item() * 100))\n",
    "\n",
    "best_model = models[accuracies.index(max(accuracies))]\n",
    "\n",
    "print('Model ' + str(accuracies.index(max(accuracies)) + 1) + ' is the best!')\n",
    "\n",
    "print('\\n')\n",
    "\n",
    "# Display the weights of each layer in the selected model\n",
    "for name, param in best_model.named_parameters():\n",
    "    if param.requires_grad:\n",
    "        print(name, param.data)"
   ]
  },
  {
   "cell_type": "code",
   "execution_count": null,
   "id": "4cdf09ba",
   "metadata": {},
   "outputs": [],
   "source": []
  },
  {
   "cell_type": "code",
   "execution_count": null,
   "id": "d0bea66c",
   "metadata": {},
   "outputs": [],
   "source": []
  },
  {
   "cell_type": "code",
   "execution_count": null,
   "id": "e29c65a2",
   "metadata": {},
   "outputs": [],
   "source": []
  }
 ],
 "metadata": {
  "kernelspec": {
   "display_name": "Python 3 (ipykernel)",
   "language": "python",
   "name": "python3"
  },
  "language_info": {
   "codemirror_mode": {
    "name": "ipython",
    "version": 3
   },
   "file_extension": ".py",
   "mimetype": "text/x-python",
   "name": "python",
   "nbconvert_exporter": "python",
   "pygments_lexer": "ipython3",
   "version": "3.11.7"
  }
 },
 "nbformat": 4,
 "nbformat_minor": 5
}
