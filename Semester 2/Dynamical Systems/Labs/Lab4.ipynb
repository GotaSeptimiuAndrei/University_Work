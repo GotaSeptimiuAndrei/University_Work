{
 "cells": [
  {
   "cell_type": "code",
   "execution_count": 6,
   "metadata": {},
   "outputs": [
    {
     "data": {
      "text/plain": [
       "[(-2,\n",
       "  [\n",
       "  (0, 0, 1)\n",
       "  ],\n",
       "  1),\n",
       " (-1 - 1*I, [(1, 0.50000000000000000? + 0.50000000000000000?*I, 0)], 1),\n",
       " (-1 + 1*I, [(1, 0.50000000000000000? - 0.50000000000000000?*I, 0)], 1)]"
      ]
     },
     "execution_count": 6,
     "metadata": {},
     "output_type": "execute_result"
    }
   ],
   "source": [
    "A=matrix([[0, -2, 0], [1, -2, 0], [0, 0, -2]])\n",
    "det(A)\n",
    "A^(-1)\n",
    "A.eigenvalues()\n",
    "A.charpoly('r')\n",
    "A.eigenvectors_right()"
   ]
  },
  {
   "cell_type": "code",
   "execution_count": 7,
   "metadata": {},
   "outputs": [
    {
     "data": {
      "text/plain": [
       "True"
      ]
     },
     "execution_count": 7,
     "metadata": {},
     "output_type": "execute_result"
    }
   ],
   "source": [
    "A=matrix([[0, -2, 0], [1, -2, 0], [0, 0, -2]])\n",
    "v1=vector([0,0,1])\n",
    "l1=-2\n",
    "A*v1==l1*v1"
   ]
  },
  {
   "cell_type": "code",
   "execution_count": 9,
   "metadata": {},
   "outputs": [
    {
     "data": {
      "text/plain": [
       "[           0            1            1]\n",
       "[           0  1/2*I + 1/2 -1/2*I + 1/2]\n",
       "[           1            0            0]"
      ]
     },
     "execution_count": 9,
     "metadata": {},
     "output_type": "execute_result"
    }
   ],
   "source": [
    "v1 = vector([0,0,1])\n",
    "v2 = vector([1, 1/2 + 1/2*I, 0])\n",
    "v3 = vector([1, 1/2 - 1/2*I, 0])\n",
    "D = matrix([v1, v2, v3]).transpose()\n",
    "D"
   ]
  },
  {
   "cell_type": "code",
   "execution_count": 10,
   "metadata": {},
   "outputs": [
    {
     "data": {
      "text/plain": [
       "[    -2      0      0]\n",
       "[     0  I - 1      0]\n",
       "[     0      0 -I - 1]"
      ]
     },
     "execution_count": 10,
     "metadata": {},
     "output_type": "execute_result"
    }
   ],
   "source": [
    "v1 = vector([0,0,1])\n",
    "v2 = vector([1, 1/2 + 1/2*I, 0])\n",
    "v3 = vector([1, 1/2 - 1/2*I, 0])\n",
    "J = diagonal_matrix([-2, -1+I, -1-I])"
   ]
  },
  {
   "cell_type": "code",
   "execution_count": 13,
   "metadata": {},
   "outputs": [
    {
     "data": {
      "text/plain": [
       "True"
      ]
     },
     "execution_count": 13,
     "metadata": {},
     "output_type": "execute_result"
    }
   ],
   "source": [
    "v1 = vector([0,0,1])\n",
    "v2 = vector([1, 1/2 + 1/2*I, 0])\n",
    "v3 = vector([1, 1/2 - 1/2*I, 0])\n",
    "D = matrix([v1, v2, v3]).transpose()\n",
    "J = diagonal_matrix([-2, -1-I, -1+I])\n",
    "A == D * J * D^(-1)"
   ]
  },
  {
   "cell_type": "code",
   "execution_count": 15,
   "metadata": {},
   "outputs": [
    {
     "data": {
      "text/plain": [
       "0"
      ]
     },
     "execution_count": 15,
     "metadata": {},
     "output_type": "execute_result"
    }
   ],
   "source": [
    "J = diagonal_matrix([-2, -1-I, -1+I])\n",
    "A=matrix([[0, -2, 0], [1, -2, 0], [0, 0, -2]])\n",
    "t = var('t')\n",
    "exp(t*J)\n",
    "exp(t*A)\n",
    "E = exp(t*A)\n",
    "limit(E[0,0], t = infinity)"
   ]
  },
  {
   "cell_type": "code",
   "execution_count": null,
   "metadata": {},
   "outputs": [],
   "source": [
    "x = 1 - x^2\n",
    "1-x^2=0\n",
    "var('x')\n",
    "solve()"
   ]
  }
 ],
 "metadata": {
  "kernelspec": {
   "display_name": "SageMath 9.3",
   "language": "sage",
   "name": "sagemath"
  },
  "language_info": {
   "codemirror_mode": {
    "name": "ipython",
    "version": 3
   },
   "file_extension": ".py",
   "mimetype": "text/x-python",
   "name": "python",
   "nbconvert_exporter": "python",
   "pygments_lexer": "ipython3",
   "version": "3.7.10"
  }
 },
 "nbformat": 4,
 "nbformat_minor": 4
}
